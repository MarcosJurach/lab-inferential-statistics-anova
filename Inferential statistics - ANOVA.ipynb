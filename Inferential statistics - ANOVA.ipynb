{
 "cells": [
  {
   "cell_type": "code",
   "execution_count": 2,
   "id": "20734e23",
   "metadata": {},
   "outputs": [],
   "source": [
    "import pandas as pd\n",
    "import numpy as np\n",
    "from scipy import stats\n",
    "from scipy.stats import f_oneway"
   ]
  },
  {
   "cell_type": "code",
   "execution_count": null,
   "id": "05aca373",
   "metadata": {},
   "outputs": [],
   "source": [
    "# H0: There is no difference in mean of plasma etching rate for different power levels"
   ]
  },
  {
   "cell_type": "code",
   "execution_count": 4,
   "id": "a721219e",
   "metadata": {},
   "outputs": [
    {
     "data": {
      "text/html": [
       "<div>\n",
       "<style scoped>\n",
       "    .dataframe tbody tr th:only-of-type {\n",
       "        vertical-align: middle;\n",
       "    }\n",
       "\n",
       "    .dataframe tbody tr th {\n",
       "        vertical-align: top;\n",
       "    }\n",
       "\n",
       "    .dataframe thead th {\n",
       "        text-align: right;\n",
       "    }\n",
       "</style>\n",
       "<table border=\"1\" class=\"dataframe\">\n",
       "  <thead>\n",
       "    <tr style=\"text-align: right;\">\n",
       "      <th></th>\n",
       "      <th>Power</th>\n",
       "      <th>Etching Rate</th>\n",
       "    </tr>\n",
       "  </thead>\n",
       "  <tbody>\n",
       "    <tr>\n",
       "      <th>0</th>\n",
       "      <td>160 W</td>\n",
       "      <td>5.43</td>\n",
       "    </tr>\n",
       "    <tr>\n",
       "      <th>1</th>\n",
       "      <td>180 W</td>\n",
       "      <td>6.24</td>\n",
       "    </tr>\n",
       "    <tr>\n",
       "      <th>2</th>\n",
       "      <td>200 W</td>\n",
       "      <td>8.79</td>\n",
       "    </tr>\n",
       "    <tr>\n",
       "      <th>3</th>\n",
       "      <td>160 W</td>\n",
       "      <td>5.71</td>\n",
       "    </tr>\n",
       "    <tr>\n",
       "      <th>4</th>\n",
       "      <td>180 W</td>\n",
       "      <td>6.71</td>\n",
       "    </tr>\n",
       "    <tr>\n",
       "      <th>5</th>\n",
       "      <td>200 W</td>\n",
       "      <td>9.20</td>\n",
       "    </tr>\n",
       "    <tr>\n",
       "      <th>6</th>\n",
       "      <td>160 W</td>\n",
       "      <td>6.22</td>\n",
       "    </tr>\n",
       "    <tr>\n",
       "      <th>7</th>\n",
       "      <td>180 W</td>\n",
       "      <td>5.98</td>\n",
       "    </tr>\n",
       "    <tr>\n",
       "      <th>8</th>\n",
       "      <td>200 W</td>\n",
       "      <td>7.90</td>\n",
       "    </tr>\n",
       "    <tr>\n",
       "      <th>9</th>\n",
       "      <td>160 W</td>\n",
       "      <td>6.01</td>\n",
       "    </tr>\n",
       "    <tr>\n",
       "      <th>10</th>\n",
       "      <td>180 W</td>\n",
       "      <td>5.66</td>\n",
       "    </tr>\n",
       "    <tr>\n",
       "      <th>11</th>\n",
       "      <td>200 W</td>\n",
       "      <td>8.15</td>\n",
       "    </tr>\n",
       "    <tr>\n",
       "      <th>12</th>\n",
       "      <td>160 W</td>\n",
       "      <td>5.59</td>\n",
       "    </tr>\n",
       "    <tr>\n",
       "      <th>13</th>\n",
       "      <td>180 W</td>\n",
       "      <td>6.60</td>\n",
       "    </tr>\n",
       "    <tr>\n",
       "      <th>14</th>\n",
       "      <td>200 W</td>\n",
       "      <td>7.55</td>\n",
       "    </tr>\n",
       "  </tbody>\n",
       "</table>\n",
       "</div>"
      ],
      "text/plain": [
       "   Power   Etching Rate\n",
       "0   160 W          5.43\n",
       "1   180 W          6.24\n",
       "2   200 W          8.79\n",
       "3   160 W          5.71\n",
       "4   180 W          6.71\n",
       "5   200 W          9.20\n",
       "6   160 W          6.22\n",
       "7   180 W          5.98\n",
       "8   200 W          7.90\n",
       "9   160 W          6.01\n",
       "10  180 W          5.66\n",
       "11  200 W          8.15\n",
       "12  160 W          5.59\n",
       "13  180 W          6.60\n",
       "14  200 W          7.55"
      ]
     },
     "execution_count": 4,
     "metadata": {},
     "output_type": "execute_result"
    }
   ],
   "source": [
    "data = pd.read_excel(\"anova_lab_data.xlsx\")\n",
    "data"
   ]
  },
  {
   "cell_type": "code",
   "execution_count": null,
   "id": "f0c9713a",
   "metadata": {},
   "outputs": [],
   "source": [
    "# calculating degrees of freedom\n",
    "\n",
    "total_DoF = len(data[\"Etching Rate\"]) - 1\n",
    "DoF_groups = len(data['Power '].unique()) - 1\n",
    "\n",
    "print(\"Total Degrees of Freedom: \", total_DoF)\n",
    "print(\"Class Degrees of Freedom: \", DoF_groups)"
   ]
  },
  {
   "cell_type": "code",
   "execution_count": null,
   "id": "24126419",
   "metadata": {},
   "outputs": [],
   "source": [
    "# function to clean feature power\n",
    "\n",
    "def power_clean(x):\n",
    "    x = x.replace(' W', \"\")\n",
    "    x = x.replace('W', \"\")\n",
    "    x = int(x)\n",
    "\n",
    "    return x"
   ]
  },
  {
   "cell_type": "code",
   "execution_count": null,
   "id": "c6bbf798",
   "metadata": {},
   "outputs": [],
   "source": [
    "data['Power '] = list(map(power_clean,data['Power ']))"
   ]
  },
  {
   "cell_type": "code",
   "execution_count": null,
   "id": "cc654f2e",
   "metadata": {},
   "outputs": [],
   "source": [
    "# finding etching rates for the three power levels\n",
    "\n",
    "power_160 = data[data['Power '] == 160]\n",
    "power_180 = data[data['Power '] == 180]\n",
    "power_200 = data[data['Power '] == 200]"
   ]
  },
  {
   "cell_type": "code",
   "execution_count": null,
   "id": "2440c2c3",
   "metadata": {},
   "outputs": [],
   "source": [
    "# dropping the power column\n",
    "\n",
    "power_160 = power_160.drop('Power ', axis=1).to_numpy()\n",
    "power_180 = power_180.drop('Power ', axis=1).to_numpy()\n",
    "power_200 = power_200.drop('Power ', axis=1).to_numpy()"
   ]
  },
  {
   "cell_type": "code",
   "execution_count": null,
   "id": "c1ece59d",
   "metadata": {},
   "outputs": [],
   "source": [
    "# we can finally get the means of etchin rates per power level\n",
    "\n",
    "print(\"Average etching rate for 160W: \", round(power_160.mean(), 3))\n",
    "print(\"Average etching rate for 180W: \", round(power_180.mean(), 3))\n",
    "print(\"Average etching rate for 200W: \", round(power_200.mean(), 3))"
   ]
  },
  {
   "cell_type": "code",
   "execution_count": null,
   "id": "1e588ed6",
   "metadata": {},
   "outputs": [],
   "source": [
    "# implementing one way ANOVA\n",
    "\n",
    "F_critical, p_value = stats.f_oneway(power_160, power_180, power_200)\n",
    "p_value\n",
    "if p_value < 0.05:\n",
    "    print(\"Reject H0: There is statistically a difference between the means of plasma etching rates for various power levels\")\n",
    "else:\n",
    "    print(\"Not enough evidence to reject H0\")"
   ]
  }
 ],
 "metadata": {
  "kernelspec": {
   "display_name": "Python 3 (ipykernel)",
   "language": "python",
   "name": "python3"
  },
  "language_info": {
   "codemirror_mode": {
    "name": "ipython",
    "version": 3
   },
   "file_extension": ".py",
   "mimetype": "text/x-python",
   "name": "python",
   "nbconvert_exporter": "python",
   "pygments_lexer": "ipython3",
   "version": "3.9.12"
  }
 },
 "nbformat": 4,
 "nbformat_minor": 5
}
